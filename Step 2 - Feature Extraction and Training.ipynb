{
 "cells": [
  {
   "cell_type": "markdown",
   "metadata": {},
   "source": [
    "# Feature Extraction and Training Model\n",
    "\n",
    "- Feature Extraction "
   ]
  },
  {
   "cell_type": "code",
   "execution_count": 1,
   "metadata": {},
   "outputs": [
    {
     "name": "stdout",
     "output_type": "stream",
     "text": [
      "WARNING:tensorflow:From C:\\Users\\yaswa\\anaconda3\\lib\\site-packages\\tensorflow\\python\\compat\\v2_compat.py:96: disable_resource_variables (from tensorflow.python.ops.variable_scope) is deprecated and will be removed in a future version.\n",
      "Instructions for updating:\n",
      "non-resource variables are not supported in the long term\n",
      "Training Start\n",
      "Classes: 22\n",
      "Images: 196\n",
      "Model filename: ./model/20191012-185253.pb\n",
      "WARNING:tensorflow:From Y:\\Masters_Content\\Software_development_for_AI\\Project 2\\Attendance Tracking 1\\Face-Detection-and-Recogition-TF-FN-OCV-master\\library\\facenet.py:379: FastGFile.__init__ (from tensorflow.python.platform.gfile) is deprecated and will be removed in a future version.\n",
      "Instructions for updating:\n",
      "Use tf.gfile.GFile.\n",
      "Extracting features of images for model\n",
      "Training Started\n",
      "Saved classifier model to file \"./class/classifier.pkl\"\n"
     ]
    }
   ],
   "source": [
    "from __future__ import absolute_import\n",
    "from __future__ import division\n",
    "from __future__ import print_function\n",
    "#import sys\n",
    "from library.classifier import training\n",
    "\n",
    "datadir = './face_dataset'\n",
    "modeldir = './model/20191012-185253.pb'\n",
    "classifier_filename = './class/classifier.pkl'\n",
    "print (\"Training Start\")\n",
    "obj=training(datadir,modeldir,classifier_filename)\n",
    "get_file=obj.main_train()\n",
    "print('Saved classifier model to file \"%s\"' % get_file)\n",
    "#sys.exit(\"All Done\")"
   ]
  },
  {
   "cell_type": "code",
   "execution_count": null,
   "metadata": {},
   "outputs": [],
   "source": []
  }
 ],
 "metadata": {
  "kernelspec": {
   "display_name": "Python 3",
   "language": "python",
   "name": "python3"
  },
  "language_info": {
   "codemirror_mode": {
    "name": "ipython",
    "version": 3
   },
   "file_extension": ".py",
   "mimetype": "text/x-python",
   "name": "python",
   "nbconvert_exporter": "python",
   "pygments_lexer": "ipython3",
   "version": "3.8.5"
  }
 },
 "nbformat": 4,
 "nbformat_minor": 2
}
